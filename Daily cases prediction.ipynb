{
 "cells": [
  {
   "cell_type": "markdown",
   "id": "e1437adb",
   "metadata": {},
   "source": [
    "# Pertanyaan penelitian\n",
    "\n",
    "Pada kesempatan kali ini, saya ingin mengetahui bagaimana perkembangan kasus baru pada tanggal 1 - 14 Des 2021 di Indonesia. Jika diasumsikan tidak adanya outbreak mendadak dan masuknya varian baru apakah kasusnya bisa menurun dan sejauh apa menurunnya."
   ]
  },
  {
   "cell_type": "markdown",
   "id": "8b0d4e8f",
   "metadata": {},
   "source": [
    "Data yang diolah adalah data Covid-19 di Indonesia yang diambil dari situs kawalcovid19. Data diambil dari tanggal 1 Juni 2021 - 30 November 2021. Saya akan mencoba melakukan *forecasting* dengan menerapkan metode *polynomial regression*."
   ]
  },
  {
   "cell_type": "markdown",
   "id": "cca21f6a",
   "metadata": {},
   "source": [
    "# 1. Data Collection\n",
    "\n",
    "Disini kita akan mencoba untuk mengumpulkan data yang dibutuhkan."
   ]
  },
  {
   "cell_type": "code",
   "execution_count": 1,
   "id": "a08facb9",
   "metadata": {},
   "outputs": [],
   "source": [
    "# import semua package/library pada sel ini\n",
    "import pandas as pd\n",
    "import numpy as np\n",
    "import matplotlib.pyplot as plt\n",
    "from sklearn.model_selection import train_test_split \n",
    "from sklearn.linear_model import LinearRegression\n",
    "from sklearn.preprocessing import PolynomialFeatures\n",
    "from sklearn import metrics"
   ]
  },
  {
   "cell_type": "code",
   "execution_count": 9,
   "id": "e344bea3",
   "metadata": {},
   "outputs": [
    {
     "data": {
      "text/html": [
       "<div>\n",
       "<style scoped>\n",
       "    .dataframe tbody tr th:only-of-type {\n",
       "        vertical-align: middle;\n",
       "    }\n",
       "\n",
       "    .dataframe tbody tr th {\n",
       "        vertical-align: top;\n",
       "    }\n",
       "\n",
       "    .dataframe thead th {\n",
       "        text-align: right;\n",
       "    }\n",
       "</style>\n",
       "<table border=\"1\" class=\"dataframe\">\n",
       "  <thead>\n",
       "    <tr style=\"text-align: right;\">\n",
       "      <th></th>\n",
       "      <th>Tanggal</th>\n",
       "      <th>Kasus_harian</th>\n",
       "      <th>Total_kasus</th>\n",
       "      <th>Kasus_aktif</th>\n",
       "      <th>Sembuh_baru</th>\n",
       "      <th>Sembuh</th>\n",
       "      <th>Meninggal_baru</th>\n",
       "      <th>Meninggal_Dunia</th>\n",
       "    </tr>\n",
       "  </thead>\n",
       "  <tbody>\n",
       "    <tr>\n",
       "      <th>0</th>\n",
       "      <td>2021-06-01</td>\n",
       "      <td>4824</td>\n",
       "      <td>1826527</td>\n",
       "      <td>101325</td>\n",
       "      <td>5360</td>\n",
       "      <td>1674479</td>\n",
       "      <td>145</td>\n",
       "      <td>50723</td>\n",
       "    </tr>\n",
       "    <tr>\n",
       "      <th>1</th>\n",
       "      <td>2021-06-02</td>\n",
       "      <td>5246</td>\n",
       "      <td>1831773</td>\n",
       "      <td>100364</td>\n",
       "      <td>6022</td>\n",
       "      <td>1680501</td>\n",
       "      <td>185</td>\n",
       "      <td>50908</td>\n",
       "    </tr>\n",
       "    <tr>\n",
       "      <th>2</th>\n",
       "      <td>2021-06-03</td>\n",
       "      <td>5353</td>\n",
       "      <td>1837126</td>\n",
       "      <td>94438</td>\n",
       "      <td>11092</td>\n",
       "      <td>1691593</td>\n",
       "      <td>187</td>\n",
       "      <td>51095</td>\n",
       "    </tr>\n",
       "    <tr>\n",
       "      <th>3</th>\n",
       "      <td>2021-06-04</td>\n",
       "      <td>6486</td>\n",
       "      <td>1843612</td>\n",
       "      <td>94773</td>\n",
       "      <td>5950</td>\n",
       "      <td>1697543</td>\n",
       "      <td>201</td>\n",
       "      <td>51296</td>\n",
       "    </tr>\n",
       "    <tr>\n",
       "      <th>4</th>\n",
       "      <td>2021-06-05</td>\n",
       "      <td>6594</td>\n",
       "      <td>1850206</td>\n",
       "      <td>96973</td>\n",
       "      <td>4241</td>\n",
       "      <td>1701784</td>\n",
       "      <td>153</td>\n",
       "      <td>51449</td>\n",
       "    </tr>\n",
       "  </tbody>\n",
       "</table>\n",
       "</div>"
      ],
      "text/plain": [
       "      Tanggal  Kasus_harian  Total_kasus  Kasus_aktif  Sembuh_baru   Sembuh  \\\n",
       "0  2021-06-01          4824      1826527       101325         5360  1674479   \n",
       "1  2021-06-02          5246      1831773       100364         6022  1680501   \n",
       "2  2021-06-03          5353      1837126        94438        11092  1691593   \n",
       "3  2021-06-04          6486      1843612        94773         5950  1697543   \n",
       "4  2021-06-05          6594      1850206        96973         4241  1701784   \n",
       "\n",
       "   Meninggal_baru  Meninggal_Dunia  \n",
       "0             145            50723  \n",
       "1             185            50908  \n",
       "2             187            51095  \n",
       "3             201            51296  \n",
       "4             153            51449  "
      ]
     },
     "execution_count": 9,
     "metadata": {},
     "output_type": "execute_result"
    }
   ],
   "source": [
    "# pemanggilan data dalam bentuk dataframe, dan ditampilkan dengan metode head\n",
    "df = pd.read_csv('covid.csv',sep=\";\")\n",
    "df.head()"
   ]
  },
  {
   "cell_type": "markdown",
   "id": "da70d75c",
   "metadata": {},
   "source": [
    "# 2. Data Preparation\n",
    "\n",
    "Pada langkah ini kita akan menyiapkan data yang dibutuhkan. Karena kita akan memprediksi total kasus pada periode tertentu, maka kolom yang digunakan adalah Kolom Tanggal dan Kasus harian."
   ]
  },
  {
   "cell_type": "code",
   "execution_count": 20,
   "id": "d88de426",
   "metadata": {},
   "outputs": [
    {
     "data": {
      "image/png": "[encoded data removed]",
      "text/plain": [
       "<Figure size 432x288 with 1 Axes>"
      ]
     },
     "metadata": {
      "needs_background": "light"
     },
     "output_type": "display_data"
    }
   ],
   "source": [
    "# Grafik kasus harian\n",
    "df['Kasus_harian'].plot.line()\n",
    "plt.title(\"Kasus harian Covid 19 Tanggal 1 Juni - 30 November 2021\")\n",
    "plt.tight_layout;"
   ]
  },
  {
   "cell_type": "code",
   "execution_count": 4,
   "id": "8a37ccf5",
   "metadata": {},
   "outputs": [
    {
     "data": {
      "text/html": [
       "<div>\n",
       "<style scoped>\n",
       "    .dataframe tbody tr th:only-of-type {\n",
       "        vertical-align: middle;\n",
       "    }\n",
       "\n",
       "    .dataframe tbody tr th {\n",
       "        vertical-align: top;\n",
       "    }\n",
       "\n",
       "    .dataframe thead th {\n",
       "        text-align: right;\n",
       "    }\n",
       "</style>\n",
       "<table border=\"1\" class=\"dataframe\">\n",
       "  <thead>\n",
       "    <tr style=\"text-align: right;\">\n",
       "      <th></th>\n",
       "      <th>Kasus_harian</th>\n",
       "      <th>Total_kasus</th>\n",
       "      <th>Kasus_aktif</th>\n",
       "      <th>Sembuh_baru</th>\n",
       "      <th>Sembuh</th>\n",
       "      <th>Meninggal_baru</th>\n",
       "      <th>Meninggal_Dunia</th>\n",
       "    </tr>\n",
       "  </thead>\n",
       "  <tbody>\n",
       "    <tr>\n",
       "      <th>count</th>\n",
       "      <td>183.000000</td>\n",
       "      <td>1.830000e+02</td>\n",
       "      <td>183.000000</td>\n",
       "      <td>183.000000</td>\n",
       "      <td>1.830000e+02</td>\n",
       "      <td>183.000000</td>\n",
       "      <td>183.000000</td>\n",
       "    </tr>\n",
       "    <tr>\n",
       "      <th>mean</th>\n",
       "      <td>13304.404372</td>\n",
       "      <td>3.538384e+06</td>\n",
       "      <td>182504.644809</td>\n",
       "      <td>13308.950820</td>\n",
       "      <td>3.244209e+06</td>\n",
       "      <td>509.573770</td>\n",
       "      <td>111669.808743</td>\n",
       "    </tr>\n",
       "    <tr>\n",
       "      <th>std</th>\n",
       "      <td>15255.212616</td>\n",
       "      <td>8.886162e+05</td>\n",
       "      <td>185697.715237</td>\n",
       "      <td>14052.400064</td>\n",
       "      <td>9.348800e+05</td>\n",
       "      <td>570.624204</td>\n",
       "      <td>36197.288002</td>\n",
       "    </tr>\n",
       "    <tr>\n",
       "      <th>min</th>\n",
       "      <td>176.000000</td>\n",
       "      <td>1.826527e+06</td>\n",
       "      <td>7916.000000</td>\n",
       "      <td>260.000000</td>\n",
       "      <td>1.674479e+06</td>\n",
       "      <td>1.000000</td>\n",
       "      <td>50723.000000</td>\n",
       "    </tr>\n",
       "    <tr>\n",
       "      <th>25%</th>\n",
       "      <td>908.500000</td>\n",
       "      <td>2.806779e+06</td>\n",
       "      <td>19032.000000</td>\n",
       "      <td>1527.500000</td>\n",
       "      <td>2.218442e+06</td>\n",
       "      <td>43.500000</td>\n",
       "      <td>71943.000000</td>\n",
       "    </tr>\n",
       "    <tr>\n",
       "      <th>50%</th>\n",
       "      <td>6486.000000</td>\n",
       "      <td>4.089801e+06</td>\n",
       "      <td>109869.000000</td>\n",
       "      <td>7167.000000</td>\n",
       "      <td>3.760497e+06</td>\n",
       "      <td>237.000000</td>\n",
       "      <td>133023.000000</td>\n",
       "    </tr>\n",
       "    <tr>\n",
       "      <th>75%</th>\n",
       "      <td>21574.500000</td>\n",
       "      <td>4.233512e+06</td>\n",
       "      <td>322127.500000</td>\n",
       "      <td>22109.500000</td>\n",
       "      <td>4.071570e+06</td>\n",
       "      <td>880.000000</td>\n",
       "      <td>142911.000000</td>\n",
       "    </tr>\n",
       "    <tr>\n",
       "      <th>max</th>\n",
       "      <td>56757.000000</td>\n",
       "      <td>4.256409e+06</td>\n",
       "      <td>574135.000000</td>\n",
       "      <td>48832.000000</td>\n",
       "      <td>4.104657e+06</td>\n",
       "      <td>2069.000000</td>\n",
       "      <td>143830.000000</td>\n",
       "    </tr>\n",
       "  </tbody>\n",
       "</table>\n",
       "</div>"
      ],
      "text/plain": [
       "       Kasus_harian   Total_kasus    Kasus_aktif   Sembuh_baru        Sembuh  \\\n",
       "count    183.000000  1.830000e+02     183.000000    183.000000  1.830000e+02   \n",
       "mean   13304.404372  3.538384e+06  182504.644809  13308.950820  3.244209e+06   \n",
       "std    15255.212616  8.886162e+05  185697.715237  14052.400064  9.348800e+05   \n",
       "min      176.000000  1.826527e+06    7916.000000    260.000000  1.674479e+06   \n",
       "25%      908.500000  2.806779e+06   19032.000000   1527.500000  2.218442e+06   \n",
       "50%     6486.000000  4.089801e+06  109869.000000   7167.000000  3.760497e+06   \n",
       "75%    21574.500000  4.233512e+06  322127.500000  22109.500000  4.071570e+06   \n",
       "max    56757.000000  4.256409e+06  574135.000000  48832.000000  4.104657e+06   \n",
       "\n",
       "       Meninggal_baru  Meninggal_Dunia  \n",
       "count      183.000000       183.000000  \n",
       "mean       509.573770    111669.808743  \n",
       "std        570.624204     36197.288002  \n",
       "min          1.000000     50723.000000  \n",
       "25%         43.500000     71943.000000  \n",
       "50%        237.000000    133023.000000  \n",
       "75%        880.000000    142911.000000  \n",
       "max       2069.000000    143830.000000  "
      ]
     },
     "execution_count": 4,
     "metadata": {},
     "output_type": "execute_result"
    }
   ],
   "source": [
    "# melihat detail dari dataset\n",
    "df.describe()"
   ]
  },
  {
   "cell_type": "code",
   "execution_count": 6,
   "id": "f035f62d",
   "metadata": {},
   "outputs": [
    {
     "data": {
      "text/plain": [
       "Tanggal            object\n",
       "Kasus_harian        int64\n",
       "Total_kasus         int64\n",
       "Kasus_aktif         int64\n",
       "Sembuh_baru         int64\n",
       "Sembuh              int64\n",
       "Meninggal_baru      int64\n",
       "Meninggal_Dunia     int64\n",
       "dtype: object"
      ]
     },
     "execution_count": 6,
     "metadata": {},
     "output_type": "execute_result"
    }
   ],
   "source": [
    "# mengecek tipe data dari semua kolom pada dataset\n",
    "df.dtypes"
   ]
  },
  {
   "cell_type": "markdown",
   "id": "b5bcb78a",
   "metadata": {},
   "source": [
    "Karena yang akan kita gunakan adalah kolom tanggal sebagai *time-series* dan kasus harian sebagai *input*. maka kita perhatikan dua kolom tersebut.\n",
    "\n",
    "Pada detail kasus harian terlihat rentang nilai maksimum dan minimum yang sangat jauh dengan 50% data berada di angka 6000 an. jauh dari rata-rata yang berkisar 13000. Sehingga kita perlu melakukan normalisasi pada kolom tersebut. \n",
    "\n",
    "Lalu karena input data harus berbentuk angka, maka kita akan mengubah tanggal menjadi *numerik*."
   ]
  },
  {
   "cell_type": "code",
   "execution_count": 10,
   "id": "0703500c",
   "metadata": {},
   "outputs": [
    {
     "data": {
      "text/html": [
       "<div>\n",
       "<style scoped>\n",
       "    .dataframe tbody tr th:only-of-type {\n",
       "        vertical-align: middle;\n",
       "    }\n",
       "\n",
       "    .dataframe tbody tr th {\n",
       "        vertical-align: top;\n",
       "    }\n",
       "\n",
       "    .dataframe thead th {\n",
       "        text-align: right;\n",
       "    }\n",
       "</style>\n",
       "<table border=\"1\" class=\"dataframe\">\n",
       "  <thead>\n",
       "    <tr style=\"text-align: right;\">\n",
       "      <th></th>\n",
       "      <th>Tanggal</th>\n",
       "      <th>Kasus_harian</th>\n",
       "      <th>Total_kasus</th>\n",
       "      <th>Kasus_aktif</th>\n",
       "      <th>Sembuh_baru</th>\n",
       "      <th>Sembuh</th>\n",
       "      <th>Meninggal_baru</th>\n",
       "      <th>Meninggal_Dunia</th>\n",
       "      <th>Kasus_normalisasi</th>\n",
       "    </tr>\n",
       "  </thead>\n",
       "  <tbody>\n",
       "    <tr>\n",
       "      <th>0</th>\n",
       "      <td>2021-06-01</td>\n",
       "      <td>4824</td>\n",
       "      <td>1826527</td>\n",
       "      <td>101325</td>\n",
       "      <td>5360</td>\n",
       "      <td>1674479</td>\n",
       "      <td>145</td>\n",
       "      <td>50723</td>\n",
       "      <td>8.481359</td>\n",
       "    </tr>\n",
       "    <tr>\n",
       "      <th>1</th>\n",
       "      <td>2021-06-02</td>\n",
       "      <td>5246</td>\n",
       "      <td>1831773</td>\n",
       "      <td>100364</td>\n",
       "      <td>6022</td>\n",
       "      <td>1680501</td>\n",
       "      <td>185</td>\n",
       "      <td>50908</td>\n",
       "      <td>8.565221</td>\n",
       "    </tr>\n",
       "    <tr>\n",
       "      <th>2</th>\n",
       "      <td>2021-06-03</td>\n",
       "      <td>5353</td>\n",
       "      <td>1837126</td>\n",
       "      <td>94438</td>\n",
       "      <td>11092</td>\n",
       "      <td>1691593</td>\n",
       "      <td>187</td>\n",
       "      <td>51095</td>\n",
       "      <td>8.585412</td>\n",
       "    </tr>\n",
       "    <tr>\n",
       "      <th>3</th>\n",
       "      <td>2021-06-04</td>\n",
       "      <td>6486</td>\n",
       "      <td>1843612</td>\n",
       "      <td>94773</td>\n",
       "      <td>5950</td>\n",
       "      <td>1697543</td>\n",
       "      <td>201</td>\n",
       "      <td>51296</td>\n",
       "      <td>8.777401</td>\n",
       "    </tr>\n",
       "    <tr>\n",
       "      <th>4</th>\n",
       "      <td>2021-06-05</td>\n",
       "      <td>6594</td>\n",
       "      <td>1850206</td>\n",
       "      <td>96973</td>\n",
       "      <td>4241</td>\n",
       "      <td>1701784</td>\n",
       "      <td>153</td>\n",
       "      <td>51449</td>\n",
       "      <td>8.793915</td>\n",
       "    </tr>\n",
       "    <tr>\n",
       "      <th>...</th>\n",
       "      <td>...</td>\n",
       "      <td>...</td>\n",
       "      <td>...</td>\n",
       "      <td>...</td>\n",
       "      <td>...</td>\n",
       "      <td>...</td>\n",
       "      <td>...</td>\n",
       "      <td>...</td>\n",
       "      <td>...</td>\n",
       "    </tr>\n",
       "    <tr>\n",
       "      <th>178</th>\n",
       "      <td>2021-11-26</td>\n",
       "      <td>453</td>\n",
       "      <td>4255268</td>\n",
       "      <td>8093</td>\n",
       "      <td>386</td>\n",
       "      <td>4103379</td>\n",
       "      <td>14</td>\n",
       "      <td>143796</td>\n",
       "      <td>6.115892</td>\n",
       "    </tr>\n",
       "    <tr>\n",
       "      <th>179</th>\n",
       "      <td>2021-11-27</td>\n",
       "      <td>404</td>\n",
       "      <td>4255672</td>\n",
       "      <td>8226</td>\n",
       "      <td>260</td>\n",
       "      <td>4103639</td>\n",
       "      <td>11</td>\n",
       "      <td>143807</td>\n",
       "      <td>6.001415</td>\n",
       "    </tr>\n",
       "    <tr>\n",
       "      <th>180</th>\n",
       "      <td>2021-11-28</td>\n",
       "      <td>264</td>\n",
       "      <td>4255936</td>\n",
       "      <td>8214</td>\n",
       "      <td>275</td>\n",
       "      <td>4103914</td>\n",
       "      <td>1</td>\n",
       "      <td>143808</td>\n",
       "      <td>5.575949</td>\n",
       "    </tr>\n",
       "    <tr>\n",
       "      <th>181</th>\n",
       "      <td>2021-11-29</td>\n",
       "      <td>176</td>\n",
       "      <td>4256112</td>\n",
       "      <td>7960</td>\n",
       "      <td>419</td>\n",
       "      <td>4104333</td>\n",
       "      <td>11</td>\n",
       "      <td>143819</td>\n",
       "      <td>5.170484</td>\n",
       "    </tr>\n",
       "    <tr>\n",
       "      <th>182</th>\n",
       "      <td>2021-11-30</td>\n",
       "      <td>297</td>\n",
       "      <td>4256409</td>\n",
       "      <td>7922</td>\n",
       "      <td>324</td>\n",
       "      <td>4104657</td>\n",
       "      <td>11</td>\n",
       "      <td>143830</td>\n",
       "      <td>5.693732</td>\n",
       "    </tr>\n",
       "  </tbody>\n",
       "</table>\n",
       "<p>183 rows × 9 columns</p>\n",
       "</div>"
      ],
      "text/plain": [
       "        Tanggal  Kasus_harian  Total_kasus  Kasus_aktif  Sembuh_baru   Sembuh  \\\n",
       "0    2021-06-01          4824      1826527       101325         5360  1674479   \n",
       "1    2021-06-02          5246      1831773       100364         6022  1680501   \n",
       "2    2021-06-03          5353      1837126        94438        11092  1691593   \n",
       "3    2021-06-04          6486      1843612        94773         5950  1697543   \n",
       "4    2021-06-05          6594      1850206        96973         4241  1701784   \n",
       "..          ...           ...          ...          ...          ...      ...   \n",
       "178  2021-11-26           453      4255268         8093          386  4103379   \n",
       "179  2021-11-27           404      4255672         8226          260  4103639   \n",
       "180  2021-11-28           264      4255936         8214          275  4103914   \n",
       "181  2021-11-29           176      4256112         7960          419  4104333   \n",
       "182  2021-11-30           297      4256409         7922          324  4104657   \n",
       "\n",
       "     Meninggal_baru  Meninggal_Dunia  Kasus_normalisasi  \n",
       "0               145            50723           8.481359  \n",
       "1               185            50908           8.565221  \n",
       "2               187            51095           8.585412  \n",
       "3               201            51296           8.777401  \n",
       "4               153            51449           8.793915  \n",
       "..              ...              ...                ...  \n",
       "178              14           143796           6.115892  \n",
       "179              11           143807           6.001415  \n",
       "180               1           143808           5.575949  \n",
       "181              11           143819           5.170484  \n",
       "182              11           143830           5.693732  \n",
       "\n",
       "[183 rows x 9 columns]"
      ]
     },
     "execution_count": 10,
     "metadata": {},
     "output_type": "execute_result"
    }
   ],
   "source": [
    "'''pada kolom ini kita akan melakukan transformasi dan menambahkan kolom baru pada dataframe kita. \n",
    "Kita beri nama kolom baru dengan data hasil normalisasi tersebut sebagai cases_norm.\n",
    "Normalisasi akan dilakukan dengan menggunakan metode logaritmik.\n",
    "'''\n",
    "df['Kasus_normalisasi'] = np.log(df['Kasus_harian'])\n",
    "df"
   ]
  },
  {
   "cell_type": "markdown",
   "id": "2849b085",
   "metadata": {},
   "source": [
    "Setelah ini kita akan mengubah kolom tanggal menjadi kolom numerik dengan 1 Juni 2021 sebagai dasar. \n",
    "Artinya saya akan mengubah \n",
    "\n",
    "- 2021-06-01 menjadi 0, \n",
    "- 2021-06-02 menjadi 1,\n",
    "- dst."
   ]
  },
  {
   "cell_type": "code",
   "execution_count": 12,
   "id": "4ea3e80b",
   "metadata": {},
   "outputs": [
    {
     "name": "stdout",
     "output_type": "stream",
     "text": [
      "Nilai Tanggal pertama adalah = 2021-06-01 00:00:00\n"
     ]
    }
   ],
   "source": [
    "'''Dengan memanfaatkan metode to_datetime pada pandas kita akan mengubah row index 0 pada tanggal \n",
    "dan masukkan pada suatu variabel bernama Tanggal_pertama.\n",
    "Nilai inilah yang akan menjadi nilai pengurang untuk tanggal lainnya\n",
    "'''\n",
    "df['Tanggal'] = pd.to_datetime(df['Tanggal'])\n",
    "Tanggal_pertama = df.loc[0,'Tanggal']\n",
    "print(f'Nilai Tanggal pertama adalah = {Tanggal_pertama}')"
   ]
  },
  {
   "cell_type": "markdown",
   "id": "bc76c0c2",
   "metadata": {},
   "source": [
    "Sekarang kita akan membuat fungsi yang akan mengubah semua tanggal pada kolom menjadi numerik dengan basis pada tanggal 1 Juni 2021."
   ]
  },
  {
   "cell_type": "code",
   "execution_count": 13,
   "id": "d96bd79f",
   "metadata": {},
   "outputs": [
    {
     "data": {
      "text/html": [
       "<div>\n",
       "<style scoped>\n",
       "    .dataframe tbody tr th:only-of-type {\n",
       "        vertical-align: middle;\n",
       "    }\n",
       "\n",
       "    .dataframe tbody tr th {\n",
       "        vertical-align: top;\n",
       "    }\n",
       "\n",
       "    .dataframe thead th {\n",
       "        text-align: right;\n",
       "    }\n",
       "</style>\n",
       "<table border=\"1\" class=\"dataframe\">\n",
       "  <thead>\n",
       "    <tr style=\"text-align: right;\">\n",
       "      <th></th>\n",
       "      <th>Tanggal</th>\n",
       "      <th>Kasus_harian</th>\n",
       "      <th>Total_kasus</th>\n",
       "      <th>Kasus_aktif</th>\n",
       "      <th>Sembuh_baru</th>\n",
       "      <th>Sembuh</th>\n",
       "      <th>Meninggal_baru</th>\n",
       "      <th>Meninggal_Dunia</th>\n",
       "      <th>Kasus_normalisasi</th>\n",
       "      <th>Hari ke-</th>\n",
       "    </tr>\n",
       "  </thead>\n",
       "  <tbody>\n",
       "    <tr>\n",
       "      <th>0</th>\n",
       "      <td>2021-06-01</td>\n",
       "      <td>4824</td>\n",
       "      <td>1826527</td>\n",
       "      <td>101325</td>\n",
       "      <td>5360</td>\n",
       "      <td>1674479</td>\n",
       "      <td>145</td>\n",
       "      <td>50723</td>\n",
       "      <td>8.481359</td>\n",
       "      <td>0</td>\n",
       "    </tr>\n",
       "    <tr>\n",
       "      <th>1</th>\n",
       "      <td>2021-06-02</td>\n",
       "      <td>5246</td>\n",
       "      <td>1831773</td>\n",
       "      <td>100364</td>\n",
       "      <td>6022</td>\n",
       "      <td>1680501</td>\n",
       "      <td>185</td>\n",
       "      <td>50908</td>\n",
       "      <td>8.565221</td>\n",
       "      <td>1</td>\n",
       "    </tr>\n",
       "    <tr>\n",
       "      <th>2</th>\n",
       "      <td>2021-06-03</td>\n",
       "      <td>5353</td>\n",
       "      <td>1837126</td>\n",
       "      <td>94438</td>\n",
       "      <td>11092</td>\n",
       "      <td>1691593</td>\n",
       "      <td>187</td>\n",
       "      <td>51095</td>\n",
       "      <td>8.585412</td>\n",
       "      <td>2</td>\n",
       "    </tr>\n",
       "    <tr>\n",
       "      <th>3</th>\n",
       "      <td>2021-06-04</td>\n",
       "      <td>6486</td>\n",
       "      <td>1843612</td>\n",
       "      <td>94773</td>\n",
       "      <td>5950</td>\n",
       "      <td>1697543</td>\n",
       "      <td>201</td>\n",
       "      <td>51296</td>\n",
       "      <td>8.777401</td>\n",
       "      <td>3</td>\n",
       "    </tr>\n",
       "    <tr>\n",
       "      <th>4</th>\n",
       "      <td>2021-06-05</td>\n",
       "      <td>6594</td>\n",
       "      <td>1850206</td>\n",
       "      <td>96973</td>\n",
       "      <td>4241</td>\n",
       "      <td>1701784</td>\n",
       "      <td>153</td>\n",
       "      <td>51449</td>\n",
       "      <td>8.793915</td>\n",
       "      <td>4</td>\n",
       "    </tr>\n",
       "    <tr>\n",
       "      <th>...</th>\n",
       "      <td>...</td>\n",
       "      <td>...</td>\n",
       "      <td>...</td>\n",
       "      <td>...</td>\n",
       "      <td>...</td>\n",
       "      <td>...</td>\n",
       "      <td>...</td>\n",
       "      <td>...</td>\n",
       "      <td>...</td>\n",
       "      <td>...</td>\n",
       "    </tr>\n",
       "    <tr>\n",
       "      <th>178</th>\n",
       "      <td>2021-11-26</td>\n",
       "      <td>453</td>\n",
       "      <td>4255268</td>\n",
       "      <td>8093</td>\n",
       "      <td>386</td>\n",
       "      <td>4103379</td>\n",
       "      <td>14</td>\n",
       "      <td>143796</td>\n",
       "      <td>6.115892</td>\n",
       "      <td>178</td>\n",
       "    </tr>\n",
       "    <tr>\n",
       "      <th>179</th>\n",
       "      <td>2021-11-27</td>\n",
       "      <td>404</td>\n",
       "      <td>4255672</td>\n",
       "      <td>8226</td>\n",
       "      <td>260</td>\n",
       "      <td>4103639</td>\n",
       "      <td>11</td>\n",
       "      <td>143807</td>\n",
       "      <td>6.001415</td>\n",
       "      <td>179</td>\n",
       "    </tr>\n",
       "    <tr>\n",
       "      <th>180</th>\n",
       "      <td>2021-11-28</td>\n",
       "      <td>264</td>\n",
       "      <td>4255936</td>\n",
       "      <td>8214</td>\n",
       "      <td>275</td>\n",
       "      <td>4103914</td>\n",
       "      <td>1</td>\n",
       "      <td>143808</td>\n",
       "      <td>5.575949</td>\n",
       "      <td>180</td>\n",
       "    </tr>\n",
       "    <tr>\n",
       "      <th>181</th>\n",
       "      <td>2021-11-29</td>\n",
       "      <td>176</td>\n",
       "      <td>4256112</td>\n",
       "      <td>7960</td>\n",
       "      <td>419</td>\n",
       "      <td>4104333</td>\n",
       "      <td>11</td>\n",
       "      <td>143819</td>\n",
       "      <td>5.170484</td>\n",
       "      <td>181</td>\n",
       "    </tr>\n",
       "    <tr>\n",
       "      <th>182</th>\n",
       "      <td>2021-11-30</td>\n",
       "      <td>297</td>\n",
       "      <td>4256409</td>\n",
       "      <td>7922</td>\n",
       "      <td>324</td>\n",
       "      <td>4104657</td>\n",
       "      <td>11</td>\n",
       "      <td>143830</td>\n",
       "      <td>5.693732</td>\n",
       "      <td>182</td>\n",
       "    </tr>\n",
       "  </tbody>\n",
       "</table>\n",
       "<p>183 rows × 10 columns</p>\n",
       "</div>"
      ],
      "text/plain": [
       "       Tanggal  Kasus_harian  Total_kasus  Kasus_aktif  Sembuh_baru   Sembuh  \\\n",
       "0   2021-06-01          4824      1826527       101325         5360  1674479   \n",
       "1   2021-06-02          5246      1831773       100364         6022  1680501   \n",
       "2   2021-06-03          5353      1837126        94438        11092  1691593   \n",
       "3   2021-06-04          6486      1843612        94773         5950  1697543   \n",
       "4   2021-06-05          6594      1850206        96973         4241  1701784   \n",
       "..         ...           ...          ...          ...          ...      ...   \n",
       "178 2021-11-26           453      4255268         8093          386  4103379   \n",
       "179 2021-11-27           404      4255672         8226          260  4103639   \n",
       "180 2021-11-28           264      4255936         8214          275  4103914   \n",
       "181 2021-11-29           176      4256112         7960          419  4104333   \n",
       "182 2021-11-30           297      4256409         7922          324  4104657   \n",
       "\n",
       "     Meninggal_baru  Meninggal_Dunia  Kasus_normalisasi  Hari ke-  \n",
       "0               145            50723           8.481359         0  \n",
       "1               185            50908           8.565221         1  \n",
       "2               187            51095           8.585412         2  \n",
       "3               201            51296           8.777401         3  \n",
       "4               153            51449           8.793915         4  \n",
       "..              ...              ...                ...       ...  \n",
       "178              14           143796           6.115892       178  \n",
       "179              11           143807           6.001415       179  \n",
       "180               1           143808           5.575949       180  \n",
       "181              11           143819           5.170484       181  \n",
       "182              11           143830           5.693732       182  \n",
       "\n",
       "[183 rows x 10 columns]"
      ]
     },
     "execution_count": 13,
     "metadata": {},
     "output_type": "execute_result"
    }
   ],
   "source": [
    "'''Pada kesempatan kali ini kita akan memanfaatkan apply() dan lambda().\n",
    "Kita akan masukkan pada sebuah kolom baru bernama Hari ke-. lalu kita tampilkan dataframe terbaru\n",
    "'''\n",
    "\n",
    "df['Hari ke-'] = df['Tanggal'].apply(lambda x: pd.Timedelta(pd.to_datetime(x)-Tanggal_pertama).days)\n",
    "df"
   ]
  },
  {
   "cell_type": "markdown",
   "id": "c82fe0e3",
   "metadata": {},
   "source": [
    "Selanjutnya, kita akan membuat salinan dari data pada kolom Kasus_normalisasi dan Hari ke- ke dalam dataframe baru."
   ]
  },
  {
   "cell_type": "code",
   "execution_count": 14,
   "id": "88db909a",
   "metadata": {},
   "outputs": [
    {
     "data": {
      "text/html": [
       "<div>\n",
       "<style scoped>\n",
       "    .dataframe tbody tr th:only-of-type {\n",
       "        vertical-align: middle;\n",
       "    }\n",
       "\n",
       "    .dataframe tbody tr th {\n",
       "        vertical-align: top;\n",
       "    }\n",
       "\n",
       "    .dataframe thead th {\n",
       "        text-align: right;\n",
       "    }\n",
       "</style>\n",
       "<table border=\"1\" class=\"dataframe\">\n",
       "  <thead>\n",
       "    <tr style=\"text-align: right;\">\n",
       "      <th></th>\n",
       "      <th>Kasus_normalisasi</th>\n",
       "      <th>Hari ke-</th>\n",
       "    </tr>\n",
       "  </thead>\n",
       "  <tbody>\n",
       "    <tr>\n",
       "      <th>0</th>\n",
       "      <td>8.481359</td>\n",
       "      <td>0</td>\n",
       "    </tr>\n",
       "    <tr>\n",
       "      <th>1</th>\n",
       "      <td>8.565221</td>\n",
       "      <td>1</td>\n",
       "    </tr>\n",
       "    <tr>\n",
       "      <th>2</th>\n",
       "      <td>8.585412</td>\n",
       "      <td>2</td>\n",
       "    </tr>\n",
       "    <tr>\n",
       "      <th>3</th>\n",
       "      <td>8.777401</td>\n",
       "      <td>3</td>\n",
       "    </tr>\n",
       "    <tr>\n",
       "      <th>4</th>\n",
       "      <td>8.793915</td>\n",
       "      <td>4</td>\n",
       "    </tr>\n",
       "    <tr>\n",
       "      <th>...</th>\n",
       "      <td>...</td>\n",
       "      <td>...</td>\n",
       "    </tr>\n",
       "    <tr>\n",
       "      <th>178</th>\n",
       "      <td>6.115892</td>\n",
       "      <td>178</td>\n",
       "    </tr>\n",
       "    <tr>\n",
       "      <th>179</th>\n",
       "      <td>6.001415</td>\n",
       "      <td>179</td>\n",
       "    </tr>\n",
       "    <tr>\n",
       "      <th>180</th>\n",
       "      <td>5.575949</td>\n",
       "      <td>180</td>\n",
       "    </tr>\n",
       "    <tr>\n",
       "      <th>181</th>\n",
       "      <td>5.170484</td>\n",
       "      <td>181</td>\n",
       "    </tr>\n",
       "    <tr>\n",
       "      <th>182</th>\n",
       "      <td>5.693732</td>\n",
       "      <td>182</td>\n",
       "    </tr>\n",
       "  </tbody>\n",
       "</table>\n",
       "<p>183 rows × 2 columns</p>\n",
       "</div>"
      ],
      "text/plain": [
       "     Kasus_normalisasi  Hari ke-\n",
       "0             8.481359         0\n",
       "1             8.565221         1\n",
       "2             8.585412         2\n",
       "3             8.777401         3\n",
       "4             8.793915         4\n",
       "..                 ...       ...\n",
       "178           6.115892       178\n",
       "179           6.001415       179\n",
       "180           5.575949       180\n",
       "181           5.170484       181\n",
       "182           5.693732       182\n",
       "\n",
       "[183 rows x 2 columns]"
      ]
     },
     "execution_count": 14,
     "metadata": {},
     "output_type": "execute_result"
    }
   ],
   "source": [
    "#isikan pada sel ini dataframe terbaru dan tampilkan\n",
    "df_actual = df[['Kasus_normalisasi','Hari ke-']]\n",
    "df_actual"
   ]
  },
  {
   "cell_type": "markdown",
   "id": "901c7070",
   "metadata": {},
   "source": [
    "# 3. Data Processing\n",
    "\n",
    "Sekarang kita akan memproses data kita. Terdapat dua bagian, pertama adalah pembuatan model dan kedua adalah evaluasi sederhana."
   ]
  },
  {
   "cell_type": "code",
   "execution_count": 22,
   "id": "1c2286a3",
   "metadata": {},
   "outputs": [
    {
     "name": "stdout",
     "output_type": "stream",
     "text": [
      "Dimensi dari X_train : 146\n",
      "Dimensi dari y_train : 146\n",
      "Dimensi dari X_test : 37\n",
      "Dimensi dari y_test : 37\n"
     ]
    }
   ],
   "source": [
    "#pembuatan model\n",
    "'''\n",
    "Pada bagian kali ini kita akan mengubah hari menjadi sumbu x dan kasus normalisasi ke dalam sumbu y.\n",
    "Data akan diubah menjadi bentuk numpy array dengan np.array()\n",
    "dan .reshape((-1, 1)) pada sumbu x saat mengubah menjadi np.array agar mengubah dimensi array tersebut.\n",
    "kita bagi menjadi data training dan test dengan test_size = 0.2\n",
    "'''\n",
    "Sumbu_x = np.array(df_actual['Hari ke-']).reshape((-1,1))\n",
    "Sumbu_y = np.array(df_actual['Kasus_normalisasi'])\n",
    "\n",
    "X_train, X_test, y_train, y_test = train_test_split(Sumbu_x, Sumbu_y, random_state=72, test_size=0.2)\n",
    "\n",
    "print(f'Dimensi dari X_train : {len(X_train)}')\n",
    "print(f'Dimensi dari y_train : {len(y_train)}')\n",
    "print(f'Dimensi dari X_test : {len(X_test)}')\n",
    "print(f'Dimensi dari y_test : {len(y_test)}')"
   ]
  },
  {
   "cell_type": "markdown",
   "id": "4e103f3c",
   "metadata": {},
   "source": [
    "**Pembuatan model.** \n",
    "\n",
    "Fungsi yang akan digunakan adalah regresi karena kita ingin mencari hubungan terhadap 1 variabel independen. Karena data berbentuk fungsi kuadratik maka pendekatan yang digunakan adalah *polynomial regression*.\n",
    "\n",
    "Sehingga model linear regression kita akan diubah ke dalam bentuk polinomial."
   ]
  },
  {
   "cell_type": "code",
   "execution_count": 23,
   "id": "292a3409",
   "metadata": {},
   "outputs": [
    {
     "data": {
      "text/plain": [
       "LinearRegression()"
      ]
     },
     "execution_count": 23,
     "metadata": {},
     "output_type": "execute_result"
    }
   ],
   "source": [
    "'''Import modul PolynomialFeatures dari sklearn.preprocessing\n",
    "Dan modul linear regression dari sklearn\n",
    "'''\n",
    "\n",
    "poly_reg = PolynomialFeatures(degree=2)\n",
    "X_poly = poly_reg.fit_transform(X_train)\n",
    "\n",
    "model_l = LinearRegression()\n",
    "model_l.fit(X_poly, y_train)"
   ]
  },
  {
   "cell_type": "markdown",
   "id": "6db5fb47",
   "metadata": {},
   "source": [
    "Selanjutkan kita akan melakukan evaluasi model kita dengan membuat prediksi dari x_test kita lalu bandingkan hasilnya dengan y_test menggunakan nilai r_square."
   ]
  },
  {
   "cell_type": "code",
   "execution_count": 41,
   "id": "bc6a0b4f",
   "metadata": {},
   "outputs": [
    {
     "data": {
      "text/plain": [
       "array([9.17978982, 9.90803094, 6.46774874, 6.93038075, 4.51080569,\n",
       "       7.94087955, 9.84012179, 8.48579512, 9.62683251, 9.45148837,\n",
       "       9.8482902 , 8.84496331, 9.90700306, 9.60387663, 4.8068148 ,\n",
       "       9.55411897, 9.86306185, 7.25544257, 5.09447641, 9.80223099,\n",
       "       9.53463629, 9.49410577, 8.32751973, 5.77711014, 9.85822633,\n",
       "       9.89086091, 9.58579557, 9.90127972, 9.90209737, 9.4293971 ,\n",
       "       5.57779807, 9.68645614, 7.35962276, 9.20709828, 9.82221983,\n",
       "       9.85593688, 6.76080664])"
      ]
     },
     "execution_count": 41,
     "metadata": {},
     "output_type": "execute_result"
    }
   ],
   "source": [
    "# pertama, prediksikan seluruh data x_test.\n",
    "# gunakan poly_reg.fit_transform untuk mengubah data menjadi bentuk polynomialnya\n",
    "poly_x_test = poly_reg.fit_transform(X_test)\n",
    "\n",
    "#setelah itu  buat variabel y_pred dengan menggunakan metode predict dan tampilkan y_pred\n",
    "y_pred = model_l.predict(poly_x_test)\n",
    "y_pred"
   ]
  },
  {
   "cell_type": "code",
   "execution_count": 42,
   "id": "2c835ad4",
   "metadata": {},
   "outputs": [
    {
     "name": "stdout",
     "output_type": "stream",
     "text": [
      "Performa model untuk data uji\n",
      "--------------------------------------\n",
      "R2 score is 0.8881566854226721\n"
     ]
    }
   ],
   "source": [
    "# evaluasi model\n",
    "r2 = metrics.r2_score(y_test, y_pred)\n",
    "\n",
    "print(\"Performa model untuk data uji\")\n",
    "print(\"--------------------------------------\")\n",
    "print('R2 score is {}'.format(r2))"
   ]
  },
  {
   "cell_type": "markdown",
   "id": "2e11a409",
   "metadata": {},
   "source": [
    "Nilai r square sebesar 0.88 adalah hasil yang baik, ini menunjukkan bahwa model yang digunakan dapat memprediksi jumlah kasus Covid."
   ]
  },
  {
   "cell_type": "markdown",
   "id": "4b36ba80",
   "metadata": {},
   "source": [
    "Karena kita ingin memprediksi data kita 14 hari semenjak data terakhir maka dibuatlah numpy array dari 183 - 196"
   ]
  },
  {
   "cell_type": "code",
   "execution_count": 26,
   "id": "68ff4bcc",
   "metadata": {},
   "outputs": [
    {
     "data": {
      "text/plain": [
       "array([[183],\n",
       "       [184],\n",
       "       [185],\n",
       "       [186],\n",
       "       [187],\n",
       "       [188],\n",
       "       [189],\n",
       "       [190],\n",
       "       [191],\n",
       "       [192],\n",
       "       [193],\n",
       "       [194],\n",
       "       [195],\n",
       "       [196]])"
      ]
     },
     "execution_count": 26,
     "metadata": {},
     "output_type": "execute_result"
    }
   ],
   "source": [
    "# membuat variabel numpy array denan nama variabel predict_date\n",
    "predict_date = np.arange(183,197).reshape(-1,1)\n",
    "predict_date"
   ]
  },
  {
   "cell_type": "code",
   "execution_count": 46,
   "id": "53d8d81f",
   "metadata": {},
   "outputs": [
    {
     "data": {
      "text/plain": [
       "array([4.43549911, 4.35967082, 4.28332081, 4.20644908, 4.12905563,\n",
       "       4.05114046, 3.97270358, 3.89374497, 3.81426465, 3.73426261,\n",
       "       3.65373885, 3.57269337, 3.49112617, 3.40903725])"
      ]
     },
     "execution_count": 46,
     "metadata": {},
     "output_type": "execute_result"
    }
   ],
   "source": [
    "# Melakukan prediksi pada variabel predict_date memanfaatkan kembali poly_reg.fit_transform dan pol_reg.predict.\n",
    "# Lalu disimpan dengan nama variabel predict_cases\n",
    "\n",
    "poly_x_test2 = poly_reg.fit_transform(predict_date)\n",
    "predict_cases = model_l.predict(poly_x_test2)\n",
    "predict_cases"
   ]
  },
  {
   "cell_type": "markdown",
   "id": "84fe31ae",
   "metadata": {},
   "source": [
    "# 4. Data Analysis\n",
    "\n",
    "Pada kesempatan kali ini kita akan melakukan analisis pada grafik dan model kita."
   ]
  },
  {
   "cell_type": "code",
   "execution_count": 47,
   "id": "e0000016",
   "metadata": {},
   "outputs": [
    {
     "name": "stdout",
     "output_type": "stream",
     "text": [
      "Prediksi kasus harian [84, 78, 72, 67, 62, 57, 53, 49, 45, 41, 38, 35, 32, 30]\n"
     ]
    }
   ],
   "source": [
    "# Hasil prediksi yang masih berbentuk logaritmik akan diubah kembali menggunakan fungsi eksponensial\n",
    "predict_cases = [int(np.exp(x)) for x in predict_cases]\n",
    "print(\"Prediksi kasus harian\", predict_cases)"
   ]
  },
  {
   "cell_type": "code",
   "execution_count": 39,
   "id": "1b36f927",
   "metadata": {},
   "outputs": [
    {
     "data": {
      "image/png": "[encoded data removed]",
      "text/plain": [
       "<Figure size 720x432 with 1 Axes>"
      ]
     },
     "metadata": {
      "needs_background": "light"
     },
     "output_type": "display_data"
    }
   ],
   "source": [
    "# Tampilan grafik\n",
    "plt.figure(figsize=(10,6))\n",
    "df['Kasus_harian'].plot.line(label='Kasus Aktual')\n",
    "plt.plot(predict_date,predict_cases, label='Kasus Prediksi')\n",
    "plt.title(\"Forecasting Kasus Baru Covid di Indonesia\\n\")\n",
    "plt.xlabel(\"\\nHari-keX Setelah 1 Juni 2021\")\n",
    "plt.ylabel(\"Jumlah Kasus Baru\\n\")\n",
    "plt.legend()\n",
    "plt.show()"
   ]
  },
  {
   "cell_type": "markdown",
   "id": "41ff1755",
   "metadata": {},
   "source": [
    "**Analisis**\n",
    "\n",
    "Diperkirakan jumlah kasus baru covid di Indonesia pada 1-14 Des 2021 (183 hari setelah 1 Juni) akan menurun tiap harinya mengikuti grafik kasus sebelumnya yang terbilang rendah dan terus menurun.\n",
    "\n",
    "Prediksi ini memiliki asumsi bahwa tidak adanya *outbreak* mendadak dan masuknya varian baru."
   ]
  }
 ],
 "metadata": {
  "kernelspec": {
   "display_name": "Python 3 (ipykernel)",
   "language": "python",
   "name": "python3"
  },
  "language_info": {
   "codemirror_mode": {
    "name": "ipython",
    "version": 3
   },
   "file_extension": ".py",
   "mimetype": "text/x-python",
   "name": "python",
   "nbconvert_exporter": "python",
   "pygments_lexer": "ipython3",
   "version": "3.9.7"
  }
 },
 "nbformat": 4,
 "nbformat_minor": 5
}
