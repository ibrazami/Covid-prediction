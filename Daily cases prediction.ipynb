{
 "cells": [
  {
   "cell_type": "markdown",
   "id": "e1437adb",
   "metadata": {},
   "source": [
    "# Pertanyaan penelitian\n",
    "\n",
    "Pada kesempatan kali ini, saya ingin mengetahui bagaimana perkembangan kasus baru pada tanggal 1 - 14 Des 2021 di Indonesia. Jika diasumsikan tidak adanya outbreak mendadak dan masuknya varian baru apakah kasusnya bisa menurun dan sejauh apa menurunnya."
   ]
  },
  {
   "cell_type": "markdown",
   "id": "8b0d4e8f",
   "metadata": {},
   "source": [
    "Data yang diolah adalah data Covid-19 di Indonesia yang diambil dari situs kawalcovid19. Data diambil dari tanggal 1 Mei 2021 - 30 November 2021. Saya akan mencoba melakukan *forecasting* dengan menerapkan metode *polynomial regression*."
   ]
  },
  {
   "cell_type": "markdown",
   "id": "cca21f6a",
   "metadata": {},
   "source": [
    "# 1. Data Collection\n",
    "\n",
    "Disini kita akan mencoba untuk mengumpulkan data yang dibutuhkan."
   ]
  },
  {
   "cell_type": "code",
   "execution_count": 1,
   "id": "a08facb9",
   "metadata": {},
   "outputs": [],
   "source": [
    "# import semua package/library pada sel ini\n",
    "import pandas as pd\n",
    "import numpy as np\n",
    "import matplotlib.pyplot as plt\n",
    "from sklearn.ensemble import RandomForestRegressor\n",
    "from sklearn.tree import DecisionTreeRegressor\n",
    "from sklearn.metrics import mean_absolute_error"
   ]
  },
  {
   "cell_type": "code",
   "execution_count": 2,
   "id": "e344bea3",
   "metadata": {},
   "outputs": [
    {
     "data": {
      "text/html": [
       "<div>\n",
       "<style scoped>\n",
       "    .dataframe tbody tr th:only-of-type {\n",
       "        vertical-align: middle;\n",
       "    }\n",
       "\n",
       "    .dataframe tbody tr th {\n",
       "        vertical-align: top;\n",
       "    }\n",
       "\n",
       "    .dataframe thead th {\n",
       "        text-align: right;\n",
       "    }\n",
       "</style>\n",
       "<table border=\"1\" class=\"dataframe\">\n",
       "  <thead>\n",
       "    <tr style=\"text-align: right;\">\n",
       "      <th></th>\n",
       "      <th>Tanggal</th>\n",
       "      <th>Kasus_harian</th>\n",
       "      <th>Total_kasus</th>\n",
       "      <th>Kasus_aktif</th>\n",
       "      <th>Sembuh_baru</th>\n",
       "      <th>Sembuh</th>\n",
       "      <th>Meninggal_baru</th>\n",
       "      <th>Meninggal_Dunia</th>\n",
       "    </tr>\n",
       "  </thead>\n",
       "  <tbody>\n",
       "    <tr>\n",
       "      <th>0</th>\n",
       "      <td>01/05/2021</td>\n",
       "      <td>4512</td>\n",
       "      <td>1672880</td>\n",
       "      <td>100250</td>\n",
       "      <td>4344</td>\n",
       "      <td>1526978</td>\n",
       "      <td>131</td>\n",
       "      <td>45652</td>\n",
       "    </tr>\n",
       "    <tr>\n",
       "      <th>1</th>\n",
       "      <td>02/05/2021</td>\n",
       "      <td>4394</td>\n",
       "      <td>1677274</td>\n",
       "      <td>100760</td>\n",
       "      <td>3740</td>\n",
       "      <td>1530718</td>\n",
       "      <td>144</td>\n",
       "      <td>45796</td>\n",
       "    </tr>\n",
       "    <tr>\n",
       "      <th>2</th>\n",
       "      <td>03/05/2021</td>\n",
       "      <td>4730</td>\n",
       "      <td>1682004</td>\n",
       "      <td>100564</td>\n",
       "      <td>4773</td>\n",
       "      <td>1535491</td>\n",
       "      <td>153</td>\n",
       "      <td>45949</td>\n",
       "    </tr>\n",
       "    <tr>\n",
       "      <th>3</th>\n",
       "      <td>04/05/2021</td>\n",
       "      <td>4369</td>\n",
       "      <td>1686373</td>\n",
       "      <td>99087</td>\n",
       "      <td>5658</td>\n",
       "      <td>1541149</td>\n",
       "      <td>188</td>\n",
       "      <td>46137</td>\n",
       "    </tr>\n",
       "    <tr>\n",
       "      <th>4</th>\n",
       "      <td>05/05/2021</td>\n",
       "      <td>5285</td>\n",
       "      <td>1691658</td>\n",
       "      <td>98217</td>\n",
       "      <td>5943</td>\n",
       "      <td>1547092</td>\n",
       "      <td>212</td>\n",
       "      <td>46349</td>\n",
       "    </tr>\n",
       "  </tbody>\n",
       "</table>\n",
       "</div>"
      ],
      "text/plain": [
       "      Tanggal  Kasus_harian  Total_kasus  Kasus_aktif  Sembuh_baru   Sembuh  \\\n",
       "0  01/05/2021          4512      1672880       100250         4344  1526978   \n",
       "1  02/05/2021          4394      1677274       100760         3740  1530718   \n",
       "2  03/05/2021          4730      1682004       100564         4773  1535491   \n",
       "3  04/05/2021          4369      1686373        99087         5658  1541149   \n",
       "4  05/05/2021          5285      1691658        98217         5943  1547092   \n",
       "\n",
       "   Meninggal_baru  Meninggal_Dunia  \n",
       "0             131            45652  \n",
       "1             144            45796  \n",
       "2             153            45949  \n",
       "3             188            46137  \n",
       "4             212            46349  "
      ]
     },
     "execution_count": 2,
     "metadata": {},
     "output_type": "execute_result"
    }
   ],
   "source": [
    "# pemanggilan data dalam bentuk dataframe, dan ditampilkan dengan metode head\n",
    "df = pd.read_csv('covid.csv')\n",
    "df.head()"
   ]
  },
  {
   "cell_type": "markdown",
   "id": "da70d75c",
   "metadata": {},
   "source": [
    "# 2. Data Preparation\n",
    "\n",
    "Pada langkah ini kita akan menyiapkan data yang dibutuhkan. Karena kita akan memprediksi total kasus pada periode tertentu, maka kolom yang digunakan adalah Kolom Tanggal dan Kasus harian."
   ]
  },
  {
   "cell_type": "code",
   "execution_count": 3,
   "id": "12f55d4e",
   "metadata": {},
   "outputs": [
    {
     "name": "stdout",
     "output_type": "stream",
     "text": [
      "<class 'pandas.core.frame.DataFrame'>\n",
      "RangeIndex: 214 entries, 0 to 213\n",
      "Data columns (total 8 columns):\n",
      " #   Column           Non-Null Count  Dtype \n",
      "---  ------           --------------  ----- \n",
      " 0   Tanggal          214 non-null    object\n",
      " 1   Kasus_harian     214 non-null    int64 \n",
      " 2   Total_kasus      214 non-null    int64 \n",
      " 3   Kasus_aktif      214 non-null    int64 \n",
      " 4   Sembuh_baru      214 non-null    int64 \n",
      " 5   Sembuh           214 non-null    int64 \n",
      " 6   Meninggal_baru   214 non-null    int64 \n",
      " 7   Meninggal_Dunia  214 non-null    int64 \n",
      "dtypes: int64(7), object(1)\n",
      "memory usage: 13.5+ KB\n"
     ]
    }
   ],
   "source": [
    "# memeriksa data\n",
    "df.info()"
   ]
  },
  {
   "cell_type": "markdown",
   "id": "121fd654",
   "metadata": {},
   "source": [
    "Kolom tanggal masih berbentuk objek sehingga akan diganti ke dalam format tanggal"
   ]
  },
  {
   "cell_type": "code",
   "execution_count": 4,
   "id": "3c1a148e",
   "metadata": {},
   "outputs": [],
   "source": [
    "# mengganti tanggal ke dalam format datetime\n",
    "df['Tanggal'] = pd.to_datetime(df['Tanggal'],dayfirst=True)"
   ]
  },
  {
   "cell_type": "code",
   "execution_count": 37,
   "id": "8676f018",
   "metadata": {},
   "outputs": [
    {
     "data": {
      "image/png": "[encoded data removed]",
      "text/plain": [
       "<Figure size 720x360 with 1 Axes>"
      ]
     },
     "metadata": {
      "needs_background": "light"
     },
     "output_type": "display_data"
    }
   ],
   "source": [
    "# Grafik kasus harian\n",
    "df.set_index('Tanggal')['Kasus_harian'].plot(figsize=(10,5))\n",
    "plt.title(\"Kasus harian Covid 19 Tanggal 1 Mei - 30 November 2021\");"
   ]
  },
  {
   "cell_type": "code",
   "execution_count": 6,
   "id": "8a37ccf5",
   "metadata": {},
   "outputs": [
    {
     "data": {
      "text/html": [
       "<div>\n",
       "<style scoped>\n",
       "    .dataframe tbody tr th:only-of-type {\n",
       "        vertical-align: middle;\n",
       "    }\n",
       "\n",
       "    .dataframe tbody tr th {\n",
       "        vertical-align: top;\n",
       "    }\n",
       "\n",
       "    .dataframe thead th {\n",
       "        text-align: right;\n",
       "    }\n",
       "</style>\n",
       "<table border=\"1\" class=\"dataframe\">\n",
       "  <thead>\n",
       "    <tr style=\"text-align: right;\">\n",
       "      <th></th>\n",
       "      <th>Kasus_harian</th>\n",
       "      <th>Total_kasus</th>\n",
       "      <th>Kasus_aktif</th>\n",
       "      <th>Sembuh_baru</th>\n",
       "      <th>Sembuh</th>\n",
       "      <th>Meninggal_baru</th>\n",
       "      <th>Meninggal_Dunia</th>\n",
       "    </tr>\n",
       "  </thead>\n",
       "  <tbody>\n",
       "    <tr>\n",
       "      <th>count</th>\n",
       "      <td>214.000000</td>\n",
       "      <td>2.140000e+02</td>\n",
       "      <td>214.000000</td>\n",
       "      <td>214.000000</td>\n",
       "      <td>2.140000e+02</td>\n",
       "      <td>214.000000</td>\n",
       "      <td>214.000000</td>\n",
       "    </tr>\n",
       "    <tr>\n",
       "      <th>mean</th>\n",
       "      <td>12093.649533</td>\n",
       "      <td>3.278471e+06</td>\n",
       "      <td>169914.158879</td>\n",
       "      <td>12065.528037</td>\n",
       "      <td>3.006087e+06</td>\n",
       "      <td>459.387850</td>\n",
       "      <td>102469.242991</td>\n",
       "    </tr>\n",
       "    <tr>\n",
       "      <th>std</th>\n",
       "      <td>14412.023174</td>\n",
       "      <td>1.037133e+06</td>\n",
       "      <td>174378.220592</td>\n",
       "      <td>13341.916355</td>\n",
       "      <td>1.040843e+06</td>\n",
       "      <td>541.600743</td>\n",
       "      <td>40273.090714</td>\n",
       "    </tr>\n",
       "    <tr>\n",
       "      <th>min</th>\n",
       "      <td>176.000000</td>\n",
       "      <td>1.672880e+06</td>\n",
       "      <td>7916.000000</td>\n",
       "      <td>260.000000</td>\n",
       "      <td>1.526978e+06</td>\n",
       "      <td>1.000000</td>\n",
       "      <td>45652.000000</td>\n",
       "    </tr>\n",
       "    <tr>\n",
       "      <th>25%</th>\n",
       "      <td>1240.000000</td>\n",
       "      <td>2.038564e+06</td>\n",
       "      <td>26100.000000</td>\n",
       "      <td>2289.250000</td>\n",
       "      <td>1.819603e+06</td>\n",
       "      <td>65.250000</td>\n",
       "      <td>55682.750000</td>\n",
       "    </tr>\n",
       "    <tr>\n",
       "      <th>50%</th>\n",
       "      <td>5419.500000</td>\n",
       "      <td>3.863046e+06</td>\n",
       "      <td>99375.000000</td>\n",
       "      <td>5887.000000</td>\n",
       "      <td>3.366922e+06</td>\n",
       "      <td>188.000000</td>\n",
       "      <td>118210.500000</td>\n",
       "    </tr>\n",
       "    <tr>\n",
       "      <th>75%</th>\n",
       "      <td>20351.250000</td>\n",
       "      <td>4.225525e+06</td>\n",
       "      <td>265073.500000</td>\n",
       "      <td>17516.750000</td>\n",
       "      <td>4.056882e+06</td>\n",
       "      <td>673.250000</td>\n",
       "      <td>142543.500000</td>\n",
       "    </tr>\n",
       "    <tr>\n",
       "      <th>max</th>\n",
       "      <td>56757.000000</td>\n",
       "      <td>4.256409e+06</td>\n",
       "      <td>574135.000000</td>\n",
       "      <td>48832.000000</td>\n",
       "      <td>4.104657e+06</td>\n",
       "      <td>2069.000000</td>\n",
       "      <td>143830.000000</td>\n",
       "    </tr>\n",
       "  </tbody>\n",
       "</table>\n",
       "</div>"
      ],
      "text/plain": [
       "       Kasus_harian   Total_kasus    Kasus_aktif   Sembuh_baru        Sembuh  \\\n",
       "count    214.000000  2.140000e+02     214.000000    214.000000  2.140000e+02   \n",
       "mean   12093.649533  3.278471e+06  169914.158879  12065.528037  3.006087e+06   \n",
       "std    14412.023174  1.037133e+06  174378.220592  13341.916355  1.040843e+06   \n",
       "min      176.000000  1.672880e+06    7916.000000    260.000000  1.526978e+06   \n",
       "25%     1240.000000  2.038564e+06   26100.000000   2289.250000  1.819603e+06   \n",
       "50%     5419.500000  3.863046e+06   99375.000000   5887.000000  3.366922e+06   \n",
       "75%    20351.250000  4.225525e+06  265073.500000  17516.750000  4.056882e+06   \n",
       "max    56757.000000  4.256409e+06  574135.000000  48832.000000  4.104657e+06   \n",
       "\n",
       "       Meninggal_baru  Meninggal_Dunia  \n",
       "count      214.000000       214.000000  \n",
       "mean       459.387850    102469.242991  \n",
       "std        541.600743     40273.090714  \n",
       "min          1.000000     45652.000000  \n",
       "25%         65.250000     55682.750000  \n",
       "50%        188.000000    118210.500000  \n",
       "75%        673.250000    142543.500000  \n",
       "max       2069.000000    143830.000000  "
      ]
     },
     "execution_count": 6,
     "metadata": {},
     "output_type": "execute_result"
    }
   ],
   "source": [
    "# melihat detail dari dataset\n",
    "df.describe()"
   ]
  },
  {
   "cell_type": "markdown",
   "id": "5f929a01",
   "metadata": {},
   "source": [
    "# 3. Modelling"
   ]
  },
  {
   "cell_type": "markdown",
   "id": "b5bcb78a",
   "metadata": {},
   "source": [
    "Metode yang digunakan untuk memprediksi jumlah kasus harian adalah regresi. Urutan kasus yang telah terjadi selama 'n' hari akan menjadi patokan dalam memprediksi jumlah kasus harian baru."
   ]
  },
  {
   "cell_type": "code",
   "execution_count": 7,
   "id": "33a06568",
   "metadata": {},
   "outputs": [],
   "source": [
    "# fungsi untuk mengubah data aktual menjadi urutan data\n",
    "def series_to_supervised(data, n_in, dropnan=True):\n",
    "    df = pd.DataFrame(data)\n",
    "    \n",
    "    cols = []\n",
    "    for i in range(n_in, -1, -1):\n",
    "        cols.append(df.shift(i))\n",
    "    df = pd.concat(cols, axis=1)\n",
    "    \n",
    "    if dropnan:\n",
    "        df.dropna(inplace=True)\n",
    "    return df.values"
   ]
  },
  {
   "cell_type": "code",
   "execution_count": 8,
   "id": "15e4753f",
   "metadata": {},
   "outputs": [],
   "source": [
    "# penggunaan fungsi ke dalam data aktual\n",
    "used = series_to_supervised(df['Kasus_harian'],10)"
   ]
  },
  {
   "cell_type": "code",
   "execution_count": 15,
   "id": "fde1aa85",
   "metadata": {},
   "outputs": [
    {
     "data": {
      "text/plain": [
       "array([4512., 4394., 4730., 4369., 5285., 5647., 6327., 6130., 3922.,\n",
       "       4891., 5021.])"
      ]
     },
     "execution_count": 15,
     "metadata": {},
     "output_type": "execute_result"
    }
   ],
   "source": [
    "# hasil transformasi data\n",
    "used[0]"
   ]
  },
  {
   "cell_type": "markdown",
   "id": "45d37cfc",
   "metadata": {},
   "source": [
    "Terlihat bahwa data per hari diubah menjadi jumlah kasus harian berdasarkan tanggal selama 10 hari yang telah diurutkan."
   ]
  },
  {
   "cell_type": "code",
   "execution_count": 16,
   "id": "921fecee",
   "metadata": {},
   "outputs": [
    {
     "data": {
      "text/plain": [
       "40.800000000000004"
      ]
     },
     "execution_count": 16,
     "metadata": {},
     "output_type": "execute_result"
    }
   ],
   "source": [
    "# menentukan jumlah data uji dengan test size 20%\n",
    "used.shape[0]*0.2"
   ]
  },
  {
   "cell_type": "code",
   "execution_count": 17,
   "id": "45c5bea2",
   "metadata": {},
   "outputs": [],
   "source": [
    "# membagi data latih dan data uji\n",
    "train = used[:-41,:]\n",
    "test = used[-41:,:]"
   ]
  },
  {
   "cell_type": "code",
   "execution_count": 36,
   "id": "74ebdc0a",
   "metadata": {},
   "outputs": [
    {
     "data": {
      "image/png": "[encoded data removed]",
      "text/plain": [
       "<Figure size 720x360 with 1 Axes>"
      ]
     },
     "metadata": {
      "needs_background": "light"
     },
     "output_type": "display_data"
    }
   ],
   "source": [
    "# visualisasi pembagian data latih dan data uji\n",
    "plt.figure(figsize=(10,5))\n",
    "plt.plot(df['Kasus_harian'][:-41], label='training')\n",
    "plt.plot(df['Kasus_harian'][-41:], label='testing')\n",
    "plt.title('Pembagian data training dan testing')\n",
    "plt.legend();"
   ]
  },
  {
   "cell_type": "code",
   "execution_count": 19,
   "id": "df570759",
   "metadata": {},
   "outputs": [],
   "source": [
    "# membagi data training menjadi variabel X dan Y\n",
    "predictions = []\n",
    "history = [x for x in train]\n",
    "\n",
    "train = np.asarray(history)\n",
    "X_train, y_train = train[:, :-1], train[:, -1]"
   ]
  },
  {
   "cell_type": "code",
   "execution_count": 20,
   "id": "c740fd3c",
   "metadata": {},
   "outputs": [],
   "source": [
    "# pembuatan model\n",
    "model_RF = RandomForestRegressor(random_state=42)\n",
    "model_DT = DecisionTreeRegressor(random_state=42)"
   ]
  },
  {
   "cell_type": "code",
   "execution_count": 21,
   "id": "247b4092",
   "metadata": {},
   "outputs": [
    {
     "data": {
      "text/plain": [
       "DecisionTreeRegressor(random_state=42)"
      ]
     },
     "execution_count": 21,
     "metadata": {},
     "output_type": "execute_result"
    }
   ],
   "source": [
    "# pelatihan model\n",
    "model_RF.fit(X_train, y_train)\n",
    "model_DT.fit(X_train, y_train)"
   ]
  },
  {
   "cell_type": "code",
   "execution_count": 22,
   "id": "a96c3896",
   "metadata": {},
   "outputs": [],
   "source": [
    "# pengujian model menggunakan data testing\n",
    "pred_RF = []\n",
    "pred_DT = []\n",
    "\n",
    "for i in range(len(test)):\n",
    "    X_test = np.asarray([test[i, :-1]])\n",
    "    \n",
    "    y_pred_RF = model_RF.predict(X_test)\n",
    "    y_pred_DT = model_DT.predict(X_test)\n",
    "    \n",
    "    pred_RF.append(y_pred_RF)\n",
    "    pred_DT.append(y_pred_DT)"
   ]
  },
  {
   "cell_type": "code",
   "execution_count": 23,
   "id": "1fe6053c",
   "metadata": {},
   "outputs": [],
   "source": [
    "# Variabel y hasil uji\n",
    "y_test = test[:, -1]"
   ]
  },
  {
   "cell_type": "code",
   "execution_count": 25,
   "id": "f2e1db2f",
   "metadata": {},
   "outputs": [
    {
     "name": "stdout",
     "output_type": "stream",
     "text": [
      "MAE dari Random Forest : 271.25219512195116\n",
      "MAE dari Decision Tree : 203.73170731707316\n"
     ]
    }
   ],
   "source": [
    "# evaluasi model\n",
    "print('MAE dari Random Forest :', mean_absolute_error(y_test, pred_RF))\n",
    "print('MAE dari Decision Tree :', mean_absolute_error(y_test, pred_DT))"
   ]
  },
  {
   "cell_type": "markdown",
   "id": "ff60ce14",
   "metadata": {},
   "source": [
    "Model decision tree memiliki hasil yang lebih akurat, sehingga model ini akan digunakan untuk prediksi."
   ]
  },
  {
   "cell_type": "markdown",
   "id": "183552c3",
   "metadata": {},
   "source": [
    "# 4. Forecast"
   ]
  },
  {
   "cell_type": "code",
   "execution_count": 26,
   "id": "1cfbc7bc",
   "metadata": {},
   "outputs": [],
   "source": [
    "# mengubah data aktual kasus harian menjadi urutan kasus\n",
    "case = df['Kasus_harian'].values\n",
    "case_value = series_to_supervised(case, n_in=14)"
   ]
  },
  {
   "cell_type": "code",
   "execution_count": 27,
   "id": "f04adddd",
   "metadata": {},
   "outputs": [],
   "source": [
    "# membagi data aktual menjadi variabel X dan Y\n",
    "x_train, y_train = case_value[:, :-1], case_value[:, -1]"
   ]
  },
  {
   "cell_type": "code",
   "execution_count": 28,
   "id": "cbced95d",
   "metadata": {},
   "outputs": [
    {
     "data": {
      "text/plain": [
       "DecisionTreeRegressor()"
      ]
     },
     "execution_count": 28,
     "metadata": {},
     "output_type": "execute_result"
    }
   ],
   "source": [
    "# pembuatan model\n",
    "forecast_DT = DecisionTreeRegressor()\n",
    "forecast_DT.fit(x_train, y_train)"
   ]
  },
  {
   "cell_type": "code",
   "execution_count": 29,
   "id": "7cf20715",
   "metadata": {},
   "outputs": [
    {
     "name": "stdout",
     "output_type": "stream",
     "text": [
      "Selesai\n"
     ]
    }
   ],
   "source": [
    "# prediksi kasus\n",
    "forecast = []\n",
    "nilai = list(case)\n",
    "\n",
    "for i in range(14):\n",
    "    row = (nilai[-14:])\n",
    "    pred = forecast_DT.predict([row])\n",
    "    \n",
    "    nilai.append(pred)\n",
    "    forecast.append(pred[0])\n",
    "print('Selesai')"
   ]
  },
  {
   "cell_type": "code",
   "execution_count": 30,
   "id": "94f84745",
   "metadata": {},
   "outputs": [
    {
     "data": {
      "text/html": [
       "<div>\n",
       "<style scoped>\n",
       "    .dataframe tbody tr th:only-of-type {\n",
       "        vertical-align: middle;\n",
       "    }\n",
       "\n",
       "    .dataframe tbody tr th {\n",
       "        vertical-align: top;\n",
       "    }\n",
       "\n",
       "    .dataframe thead th {\n",
       "        text-align: right;\n",
       "    }\n",
       "</style>\n",
       "<table border=\"1\" class=\"dataframe\">\n",
       "  <thead>\n",
       "    <tr style=\"text-align: right;\">\n",
       "      <th></th>\n",
       "      <th>Tanggal</th>\n",
       "      <th>Kasus_harian</th>\n",
       "      <th>Total_kasus</th>\n",
       "      <th>Kasus_aktif</th>\n",
       "      <th>Sembuh_baru</th>\n",
       "      <th>Sembuh</th>\n",
       "      <th>Meninggal_baru</th>\n",
       "      <th>Meninggal_Dunia</th>\n",
       "    </tr>\n",
       "  </thead>\n",
       "  <tbody>\n",
       "    <tr>\n",
       "      <th>209</th>\n",
       "      <td>2021-11-26</td>\n",
       "      <td>453</td>\n",
       "      <td>4255268</td>\n",
       "      <td>8093</td>\n",
       "      <td>386</td>\n",
       "      <td>4103379</td>\n",
       "      <td>14</td>\n",
       "      <td>143796</td>\n",
       "    </tr>\n",
       "    <tr>\n",
       "      <th>210</th>\n",
       "      <td>2021-11-27</td>\n",
       "      <td>404</td>\n",
       "      <td>4255672</td>\n",
       "      <td>8226</td>\n",
       "      <td>260</td>\n",
       "      <td>4103639</td>\n",
       "      <td>11</td>\n",
       "      <td>143807</td>\n",
       "    </tr>\n",
       "    <tr>\n",
       "      <th>211</th>\n",
       "      <td>2021-11-28</td>\n",
       "      <td>264</td>\n",
       "      <td>4255936</td>\n",
       "      <td>8214</td>\n",
       "      <td>275</td>\n",
       "      <td>4103914</td>\n",
       "      <td>1</td>\n",
       "      <td>143808</td>\n",
       "    </tr>\n",
       "    <tr>\n",
       "      <th>212</th>\n",
       "      <td>2021-11-29</td>\n",
       "      <td>176</td>\n",
       "      <td>4256112</td>\n",
       "      <td>7960</td>\n",
       "      <td>419</td>\n",
       "      <td>4104333</td>\n",
       "      <td>11</td>\n",
       "      <td>143819</td>\n",
       "    </tr>\n",
       "    <tr>\n",
       "      <th>213</th>\n",
       "      <td>2021-11-30</td>\n",
       "      <td>297</td>\n",
       "      <td>4256409</td>\n",
       "      <td>7922</td>\n",
       "      <td>324</td>\n",
       "      <td>4104657</td>\n",
       "      <td>11</td>\n",
       "      <td>143830</td>\n",
       "    </tr>\n",
       "  </tbody>\n",
       "</table>\n",
       "</div>"
      ],
      "text/plain": [
       "       Tanggal  Kasus_harian  Total_kasus  Kasus_aktif  Sembuh_baru   Sembuh  \\\n",
       "209 2021-11-26           453      4255268         8093          386  4103379   \n",
       "210 2021-11-27           404      4255672         8226          260  4103639   \n",
       "211 2021-11-28           264      4255936         8214          275  4103914   \n",
       "212 2021-11-29           176      4256112         7960          419  4104333   \n",
       "213 2021-11-30           297      4256409         7922          324  4104657   \n",
       "\n",
       "     Meninggal_baru  Meninggal_Dunia  \n",
       "209              14           143796  \n",
       "210              11           143807  \n",
       "211               1           143808  \n",
       "212              11           143819  \n",
       "213              11           143830  "
      ]
     },
     "execution_count": 30,
     "metadata": {},
     "output_type": "execute_result"
    }
   ],
   "source": [
    "# mengecek tanggal terakhir kasus aktual\n",
    "df.tail()"
   ]
  },
  {
   "cell_type": "code",
   "execution_count": 31,
   "id": "a5ad5b85",
   "metadata": {},
   "outputs": [],
   "source": [
    "# membuat urutan 14 hari setelah tanggal terakhir kasus aktual\n",
    "tanggal_prediksi = pd.date_range('1/12/2021', periods=14)\n",
    "df_forecast = pd.DataFrame({\n",
    "    'Tanggal' : tanggal_prediksi,\n",
    "    'Kasus_harian': forecast\n",
    "})"
   ]
  },
  {
   "cell_type": "code",
   "execution_count": 32,
   "id": "f593fcc9",
   "metadata": {},
   "outputs": [
    {
     "data": {
      "text/html": [
       "<div>\n",
       "<style scoped>\n",
       "    .dataframe tbody tr th:only-of-type {\n",
       "        vertical-align: middle;\n",
       "    }\n",
       "\n",
       "    .dataframe tbody tr th {\n",
       "        vertical-align: top;\n",
       "    }\n",
       "\n",
       "    .dataframe thead th {\n",
       "        text-align: right;\n",
       "    }\n",
       "</style>\n",
       "<table border=\"1\" class=\"dataframe\">\n",
       "  <thead>\n",
       "    <tr style=\"text-align: right;\">\n",
       "      <th></th>\n",
       "      <th>Tanggal</th>\n",
       "      <th>Kasus_harian</th>\n",
       "    </tr>\n",
       "  </thead>\n",
       "  <tbody>\n",
       "    <tr>\n",
       "      <th>0</th>\n",
       "      <td>2021-01-12</td>\n",
       "      <td>186.0</td>\n",
       "    </tr>\n",
       "    <tr>\n",
       "      <th>1</th>\n",
       "      <td>2021-01-13</td>\n",
       "      <td>372.0</td>\n",
       "    </tr>\n",
       "    <tr>\n",
       "      <th>2</th>\n",
       "      <td>2021-01-14</td>\n",
       "      <td>522.0</td>\n",
       "    </tr>\n",
       "    <tr>\n",
       "      <th>3</th>\n",
       "      <td>2021-01-15</td>\n",
       "      <td>404.0</td>\n",
       "    </tr>\n",
       "    <tr>\n",
       "      <th>4</th>\n",
       "      <td>2021-01-16</td>\n",
       "      <td>453.0</td>\n",
       "    </tr>\n",
       "    <tr>\n",
       "      <th>5</th>\n",
       "      <td>2021-01-17</td>\n",
       "      <td>404.0</td>\n",
       "    </tr>\n",
       "    <tr>\n",
       "      <th>6</th>\n",
       "      <td>2021-01-18</td>\n",
       "      <td>297.0</td>\n",
       "    </tr>\n",
       "    <tr>\n",
       "      <th>7</th>\n",
       "      <td>2021-01-19</td>\n",
       "      <td>186.0</td>\n",
       "    </tr>\n",
       "    <tr>\n",
       "      <th>8</th>\n",
       "      <td>2021-01-20</td>\n",
       "      <td>297.0</td>\n",
       "    </tr>\n",
       "    <tr>\n",
       "      <th>9</th>\n",
       "      <td>2021-01-21</td>\n",
       "      <td>451.0</td>\n",
       "    </tr>\n",
       "    <tr>\n",
       "      <th>10</th>\n",
       "      <td>2021-01-22</td>\n",
       "      <td>372.0</td>\n",
       "    </tr>\n",
       "    <tr>\n",
       "      <th>11</th>\n",
       "      <td>2021-01-23</td>\n",
       "      <td>444.0</td>\n",
       "    </tr>\n",
       "    <tr>\n",
       "      <th>12</th>\n",
       "      <td>2021-01-24</td>\n",
       "      <td>404.0</td>\n",
       "    </tr>\n",
       "    <tr>\n",
       "      <th>13</th>\n",
       "      <td>2021-01-25</td>\n",
       "      <td>264.0</td>\n",
       "    </tr>\n",
       "  </tbody>\n",
       "</table>\n",
       "</div>"
      ],
      "text/plain": [
       "      Tanggal  Kasus_harian\n",
       "0  2021-01-12         186.0\n",
       "1  2021-01-13         372.0\n",
       "2  2021-01-14         522.0\n",
       "3  2021-01-15         404.0\n",
       "4  2021-01-16         453.0\n",
       "5  2021-01-17         404.0\n",
       "6  2021-01-18         297.0\n",
       "7  2021-01-19         186.0\n",
       "8  2021-01-20         297.0\n",
       "9  2021-01-21         451.0\n",
       "10 2021-01-22         372.0\n",
       "11 2021-01-23         444.0\n",
       "12 2021-01-24         404.0\n",
       "13 2021-01-25         264.0"
      ]
     },
     "execution_count": 32,
     "metadata": {},
     "output_type": "execute_result"
    }
   ],
   "source": [
    "# hasil prediksi\n",
    "df_forecast"
   ]
  },
  {
   "cell_type": "code",
   "execution_count": 39,
   "id": "e871d3d7",
   "metadata": {},
   "outputs": [
    {
     "data": {
      "image/png": "[encoded data removed]",
      "text/plain": [
       "<Figure size 720x360 with 1 Axes>"
      ]
     },
     "metadata": {
      "needs_background": "light"
     },
     "output_type": "display_data"
    }
   ],
   "source": [
    "# grafik data aktual dan \n",
    "c = df.append(df_forecast).reset_index(drop=True)\n",
    "plt.figure(figsize=(10,5))\n",
    "c['Kasus_harian'][:-14].plot(label='actual')\n",
    "c['Kasus_harian'][-14:].plot(label='predict')\n",
    "plt.title('Kasus harian Covid 19: aktual dan prediksi')\n",
    "plt.legend();"
   ]
  },
  {
   "cell_type": "code",
   "execution_count": 34,
   "id": "a759951a",
   "metadata": {},
   "outputs": [
    {
     "data": {
      "text/html": [
       "<div>\n",
       "<style scoped>\n",
       "    .dataframe tbody tr th:only-of-type {\n",
       "        vertical-align: middle;\n",
       "    }\n",
       "\n",
       "    .dataframe tbody tr th {\n",
       "        vertical-align: top;\n",
       "    }\n",
       "\n",
       "    .dataframe thead th {\n",
       "        text-align: right;\n",
       "    }\n",
       "</style>\n",
       "<table border=\"1\" class=\"dataframe\">\n",
       "  <thead>\n",
       "    <tr style=\"text-align: right;\">\n",
       "      <th></th>\n",
       "      <th>Kasus_harian</th>\n",
       "    </tr>\n",
       "  </thead>\n",
       "  <tbody>\n",
       "    <tr>\n",
       "      <th>count</th>\n",
       "      <td>14.000000</td>\n",
       "    </tr>\n",
       "    <tr>\n",
       "      <th>mean</th>\n",
       "      <td>361.142857</td>\n",
       "    </tr>\n",
       "    <tr>\n",
       "      <th>std</th>\n",
       "      <td>101.532001</td>\n",
       "    </tr>\n",
       "    <tr>\n",
       "      <th>min</th>\n",
       "      <td>186.000000</td>\n",
       "    </tr>\n",
       "    <tr>\n",
       "      <th>25%</th>\n",
       "      <td>297.000000</td>\n",
       "    </tr>\n",
       "    <tr>\n",
       "      <th>50%</th>\n",
       "      <td>388.000000</td>\n",
       "    </tr>\n",
       "    <tr>\n",
       "      <th>75%</th>\n",
       "      <td>434.000000</td>\n",
       "    </tr>\n",
       "    <tr>\n",
       "      <th>max</th>\n",
       "      <td>522.000000</td>\n",
       "    </tr>\n",
       "  </tbody>\n",
       "</table>\n",
       "</div>"
      ],
      "text/plain": [
       "       Kasus_harian\n",
       "count     14.000000\n",
       "mean     361.142857\n",
       "std      101.532001\n",
       "min      186.000000\n",
       "25%      297.000000\n",
       "50%      388.000000\n",
       "75%      434.000000\n",
       "max      522.000000"
      ]
     },
     "execution_count": 34,
     "metadata": {},
     "output_type": "execute_result"
    }
   ],
   "source": [
    "# ringkasan prediksi kasus\n",
    "df_forecast.describe()"
   ]
  },
  {
   "cell_type": "markdown",
   "id": "41ff1755",
   "metadata": {},
   "source": [
    "**Analisis**\n",
    "\n",
    "Diperkirakan jumlah kasus baru covid di Indonesia pada 1-14 Des 2021 (213 hari setelah 1 Mei) akan mengikuti pola kasus sejak sebulan sebelumnya. Diperikaran tidak ada perubahan signifikan pada jumlah kasus harian, dengan rata-rata 361 kasus minimal 186 kasus dan kasus tertinggi pada angka 522. \n",
    "\n",
    "Prediksi ini memiliki asumsi bahwa tidak adanya *outbreak* mendadak dan masuknya varian baru."
   ]
  }
 ],
 "metadata": {
  "kernelspec": {
   "display_name": "Python 3 (ipykernel)",
   "language": "python",
   "name": "python3"
  },
  "language_info": {
   "codemirror_mode": {
    "name": "ipython",
    "version": 3
   },
   "file_extension": ".py",
   "mimetype": "text/x-python",
   "name": "python",
   "nbconvert_exporter": "python",
   "pygments_lexer": "ipython3",
   "version": "3.9.7"
  }
 },
 "nbformat": 4,
 "nbformat_minor": 5
}
